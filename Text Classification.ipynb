{
 "cells": [
  {
   "cell_type": "markdown",
   "metadata": {},
   "source": [
    "In this notebook we explore how to develop and tune an effective model for text classification. In the end, there's a function that uses cross-validation to find the best model & hyperparameters (if applicable). \n",
    "\n",
    "### To-Do Improvements:\n",
    "* Add more models to tests (e.g. LDA, QDA)\n",
    "* Include the option to test more hyperparameters in the cross-val tests\n",
    "* Include the option to maximize a different parameter than accuracy, which is only useful when the classes are balanced"
   ]
  },
  {
   "cell_type": "code",
   "execution_count": 3,
   "metadata": {
    "ExecuteTime": {
     "end_time": "2019-05-03T00:30:13.313523Z",
     "start_time": "2019-05-03T00:30:06.471883Z"
    }
   },
   "outputs": [],
   "source": [
    "import pandas as pd\n",
    "import matplotlib.pyplot as plt\n",
    "from sklearn.feature_extraction.text import TfidfVectorizer\n",
    "from sklearn.feature_selection import chi2\n",
    "import numpy as np\n",
    "import seaborn as sns"
   ]
  },
  {
   "cell_type": "markdown",
   "metadata": {},
   "source": [
    "# Exploring the Data"
   ]
  },
  {
   "cell_type": "code",
   "execution_count": 4,
   "metadata": {
    "ExecuteTime": {
     "end_time": "2019-05-03T00:30:14.753444Z",
     "start_time": "2019-05-03T00:30:14.633733Z"
    }
   },
   "outputs": [
    {
     "data": {
      "text/html": [
       "<div>\n",
       "<style scoped>\n",
       "    .dataframe tbody tr th:only-of-type {\n",
       "        vertical-align: middle;\n",
       "    }\n",
       "\n",
       "    .dataframe tbody tr th {\n",
       "        vertical-align: top;\n",
       "    }\n",
       "\n",
       "    .dataframe thead th {\n",
       "        text-align: right;\n",
       "    }\n",
       "</style>\n",
       "<table border=\"1\" class=\"dataframe\">\n",
       "  <thead>\n",
       "    <tr style=\"text-align: right;\">\n",
       "      <th></th>\n",
       "      <th>Category</th>\n",
       "      <th>Title</th>\n",
       "    </tr>\n",
       "  </thead>\n",
       "  <tbody>\n",
       "    <tr>\n",
       "      <th>0</th>\n",
       "      <td>NFL</td>\n",
       "      <td>Lighter Ezekiel Elliott is carrying Cowboys on...</td>\n",
       "    </tr>\n",
       "    <tr>\n",
       "      <th>1</th>\n",
       "      <td>NFL</td>\n",
       "      <td>Giants sticking with Eli Manning, but won’t ru...</td>\n",
       "    </tr>\n",
       "    <tr>\n",
       "      <th>2</th>\n",
       "      <td>NFL</td>\n",
       "      <td>Jaguars will put Andrew Norwell on injured res...</td>\n",
       "    </tr>\n",
       "    <tr>\n",
       "      <th>3</th>\n",
       "      <td>NFL</td>\n",
       "      <td>Jaguars fire offensive coordinator Nathaniel H...</td>\n",
       "    </tr>\n",
       "    <tr>\n",
       "      <th>4</th>\n",
       "      <td>NFL</td>\n",
       "      <td>Ryan Tannehill will start for Dolphins on Sunday</td>\n",
       "    </tr>\n",
       "    <tr>\n",
       "      <th>5</th>\n",
       "      <td>NFL</td>\n",
       "      <td>Giants encourage Ballentine to skip minicamp</td>\n",
       "    </tr>\n",
       "    <tr>\n",
       "      <th>6</th>\n",
       "      <td>NFL</td>\n",
       "      <td>Source: Raiders' Crowell hurt, done for season</td>\n",
       "    </tr>\n",
       "    <tr>\n",
       "      <th>7</th>\n",
       "      <td>NFL</td>\n",
       "      <td>Steelers' mistakes lead to Broncos' surprising...</td>\n",
       "    </tr>\n",
       "    <tr>\n",
       "      <th>8</th>\n",
       "      <td>NFL</td>\n",
       "      <td>Panthers stumbling after crushing loss to Seah...</td>\n",
       "    </tr>\n",
       "    <tr>\n",
       "      <th>9</th>\n",
       "      <td>NFL</td>\n",
       "      <td>Raiders signing tight end off Ravens practice ...</td>\n",
       "    </tr>\n",
       "    <tr>\n",
       "      <th>10</th>\n",
       "      <td>NFL</td>\n",
       "      <td>2019 NFL draft: Fantasy football reaction</td>\n",
       "    </tr>\n",
       "    <tr>\n",
       "      <th>11</th>\n",
       "      <td>NFL</td>\n",
       "      <td>2019 NFL draft: Biggest post-draft questions f...</td>\n",
       "    </tr>\n",
       "    <tr>\n",
       "      <th>12</th>\n",
       "      <td>NFL</td>\n",
       "      <td>Chiefs hopeful Eric Berry can return to practi...</td>\n",
       "    </tr>\n",
       "    <tr>\n",
       "      <th>13</th>\n",
       "      <td>NFL</td>\n",
       "      <td>Malcolm Jenkins: We lacked fight in New Orleans</td>\n",
       "    </tr>\n",
       "    <tr>\n",
       "      <th>14</th>\n",
       "      <td>NFL</td>\n",
       "      <td>AFC playoff picture: Chiefs stay on top of a w...</td>\n",
       "    </tr>\n",
       "    <tr>\n",
       "      <th>15</th>\n",
       "      <td>NFL</td>\n",
       "      <td>PFT's Week 12 superlatives</td>\n",
       "    </tr>\n",
       "    <tr>\n",
       "      <th>16</th>\n",
       "      <td>NFL</td>\n",
       "      <td>Packers left tackle David Bakhtiari suffers tw...</td>\n",
       "    </tr>\n",
       "    <tr>\n",
       "      <th>17</th>\n",
       "      <td>NFL</td>\n",
       "      <td>Aaron Rodgers knows the Packers need to win ou...</td>\n",
       "    </tr>\n",
       "    <tr>\n",
       "      <th>18</th>\n",
       "      <td>NFL</td>\n",
       "      <td>Should Ravens stick with Jackson as starter?</td>\n",
       "    </tr>\n",
       "    <tr>\n",
       "      <th>19</th>\n",
       "      <td>NFL</td>\n",
       "      <td>FMIA Week 11—Embedded in New Orleans: The Ritz...</td>\n",
       "    </tr>\n",
       "    <tr>\n",
       "      <th>20</th>\n",
       "      <td>NFL</td>\n",
       "      <td>Passing stats are up around the NFL, but Tom B...</td>\n",
       "    </tr>\n",
       "    <tr>\n",
       "      <th>21</th>\n",
       "      <td>NFL</td>\n",
       "      <td>FMIA Week 10: Rams Manage Win After Fire-Fille...</td>\n",
       "    </tr>\n",
       "    <tr>\n",
       "      <th>22</th>\n",
       "      <td>NFL</td>\n",
       "      <td>Cowboys to sign Hall of Famer Larry Allen's son</td>\n",
       "    </tr>\n",
       "    <tr>\n",
       "      <th>23</th>\n",
       "      <td>NFL</td>\n",
       "      <td>Giants vs. Athletics, Jul. 31</td>\n",
       "    </tr>\n",
       "    <tr>\n",
       "      <th>24</th>\n",
       "      <td>NFL</td>\n",
       "      <td>Ravens shouldn't be indecisive on Kaepernick</td>\n",
       "    </tr>\n",
       "    <tr>\n",
       "      <th>25</th>\n",
       "      <td>Soccer</td>\n",
       "      <td>U.S. U-20 MNT sets up rematch with Mexico in C...</td>\n",
       "    </tr>\n",
       "    <tr>\n",
       "      <th>26</th>\n",
       "      <td>Soccer</td>\n",
       "      <td>LIVE: USMNT vs. Italy – Pulisic wearing captai...</td>\n",
       "    </tr>\n",
       "    <tr>\n",
       "      <th>27</th>\n",
       "      <td>Soccer</td>\n",
       "      <td>Report: Chelsea to double Kante’s wages</td>\n",
       "    </tr>\n",
       "    <tr>\n",
       "      <th>28</th>\n",
       "      <td>Soccer</td>\n",
       "      <td>UEFA to introduce VAR in Champions League knoc...</td>\n",
       "    </tr>\n",
       "    <tr>\n",
       "      <th>29</th>\n",
       "      <td>Soccer</td>\n",
       "      <td>UEFA: FFP rules must be “strong and clear”</td>\n",
       "    </tr>\n",
       "    <tr>\n",
       "      <th>...</th>\n",
       "      <td>...</td>\n",
       "      <td>...</td>\n",
       "    </tr>\n",
       "    <tr>\n",
       "      <th>31</th>\n",
       "      <td>Soccer</td>\n",
       "      <td>Extended Highlights: Tottenham roll past Chelsea</td>\n",
       "    </tr>\n",
       "    <tr>\n",
       "      <th>32</th>\n",
       "      <td>Soccer</td>\n",
       "      <td>Premier League clubs ranked by highest average...</td>\n",
       "    </tr>\n",
       "    <tr>\n",
       "      <th>33</th>\n",
       "      <td>Soccer</td>\n",
       "      <td>FOLLOW LIVE: MLS Conference Finals 1st Legs</td>\n",
       "    </tr>\n",
       "    <tr>\n",
       "      <th>34</th>\n",
       "      <td>Soccer</td>\n",
       "      <td>Sources: Barca to copy City against Liverpool</td>\n",
       "    </tr>\n",
       "    <tr>\n",
       "      <th>35</th>\n",
       "      <td>Soccer</td>\n",
       "      <td>Weekend review: Liverpool and City won't blink</td>\n",
       "    </tr>\n",
       "    <tr>\n",
       "      <th>36</th>\n",
       "      <td>Soccer</td>\n",
       "      <td>Messi, Dembele combine to give Barca late equa...</td>\n",
       "    </tr>\n",
       "    <tr>\n",
       "      <th>37</th>\n",
       "      <td>Soccer</td>\n",
       "      <td>Bundesliga wrap: Bayern falls, Eintracht rises...</td>\n",
       "    </tr>\n",
       "    <tr>\n",
       "      <th>38</th>\n",
       "      <td>Soccer</td>\n",
       "      <td>Arsenal v. Leicester City</td>\n",
       "    </tr>\n",
       "    <tr>\n",
       "      <th>39</th>\n",
       "      <td>Soccer</td>\n",
       "      <td>De Gea 4/10 as his howler costs Man United vic...</td>\n",
       "    </tr>\n",
       "    <tr>\n",
       "      <th>40</th>\n",
       "      <td>Soccer</td>\n",
       "      <td>UCL takeaways: Liverpool problems extended bey...</td>\n",
       "    </tr>\n",
       "    <tr>\n",
       "      <th>41</th>\n",
       "      <td>Soccer</td>\n",
       "      <td>Source: Chelsea not for sale to UK's richest man</td>\n",
       "    </tr>\n",
       "    <tr>\n",
       "      <th>42</th>\n",
       "      <td>Soccer</td>\n",
       "      <td>Ramsey has played last Arsenal match - Emery</td>\n",
       "    </tr>\n",
       "    <tr>\n",
       "      <th>43</th>\n",
       "      <td>Soccer</td>\n",
       "      <td>Sarri worried as Chelsea's defence faces crisis</td>\n",
       "    </tr>\n",
       "    <tr>\n",
       "      <th>44</th>\n",
       "      <td>Soccer</td>\n",
       "      <td>Relive Arsenal's season opening win with fans</td>\n",
       "    </tr>\n",
       "    <tr>\n",
       "      <th>45</th>\n",
       "      <td>NBA</td>\n",
       "      <td>Three Things to Know: Kevin Durant goes off fo...</td>\n",
       "    </tr>\n",
       "    <tr>\n",
       "      <th>46</th>\n",
       "      <td>NBA</td>\n",
       "      <td>Kevin Durant gave his jersey to Drake on the c...</td>\n",
       "    </tr>\n",
       "    <tr>\n",
       "      <th>47</th>\n",
       "      <td>NBA</td>\n",
       "      <td>Report: Some Cavaliers players upset about Kyl...</td>\n",
       "    </tr>\n",
       "    <tr>\n",
       "      <th>48</th>\n",
       "      <td>NBA</td>\n",
       "      <td>PBT Extra: Utah gets a little help with Kyle K...</td>\n",
       "    </tr>\n",
       "    <tr>\n",
       "      <th>49</th>\n",
       "      <td>NBA</td>\n",
       "      <td>Lillard: Blazers' jawing at refs reveals distr...</td>\n",
       "    </tr>\n",
       "    <tr>\n",
       "      <th>50</th>\n",
       "      <td>NBA</td>\n",
       "      <td>Rockets, Warriors both hope for cleaner Game 2</td>\n",
       "    </tr>\n",
       "    <tr>\n",
       "      <th>51</th>\n",
       "      <td>NBA</td>\n",
       "      <td>NBA playoff winners and losers: Russ, Dame and...</td>\n",
       "    </tr>\n",
       "    <tr>\n",
       "      <th>52</th>\n",
       "      <td>NBA</td>\n",
       "      <td>McCollum leads Blazers past cold Nuggets, 97-90</td>\n",
       "    </tr>\n",
       "    <tr>\n",
       "      <th>53</th>\n",
       "      <td>NBA</td>\n",
       "      <td>Blazers seeking better balance against Nuggets</td>\n",
       "    </tr>\n",
       "    <tr>\n",
       "      <th>54</th>\n",
       "      <td>NBA</td>\n",
       "      <td>Korver won't solve all of Utah's problems</td>\n",
       "    </tr>\n",
       "    <tr>\n",
       "      <th>55</th>\n",
       "      <td>NBA</td>\n",
       "      <td>Report: Cavaliers willing to take on long-term...</td>\n",
       "    </tr>\n",
       "    <tr>\n",
       "      <th>56</th>\n",
       "      <td>NBA</td>\n",
       "      <td>Durant outplaying Harden when it matters most</td>\n",
       "    </tr>\n",
       "    <tr>\n",
       "      <th>57</th>\n",
       "      <td>NBA</td>\n",
       "      <td>KD: Harden's style 'clever,' not cheating at all</td>\n",
       "    </tr>\n",
       "    <tr>\n",
       "      <th>58</th>\n",
       "      <td>NBA</td>\n",
       "      <td>Sources: Popovich expected to sign 3-year deal</td>\n",
       "    </tr>\n",
       "    <tr>\n",
       "      <th>59</th>\n",
       "      <td>NBA</td>\n",
       "      <td>Cavaliers trade Kyle Korver to Jazz for Alec B...</td>\n",
       "    </tr>\n",
       "    <tr>\n",
       "      <th>60</th>\n",
       "      <td>NBA</td>\n",
       "      <td>Durant leads the way again, Warriors lead Rock...</td>\n",
       "    </tr>\n",
       "  </tbody>\n",
       "</table>\n",
       "<p>61 rows × 2 columns</p>\n",
       "</div>"
      ],
      "text/plain": [
       "   Category                                              Title\n",
       "0       NFL  Lighter Ezekiel Elliott is carrying Cowboys on...\n",
       "1       NFL  Giants sticking with Eli Manning, but won’t ru...\n",
       "2       NFL  Jaguars will put Andrew Norwell on injured res...\n",
       "3       NFL  Jaguars fire offensive coordinator Nathaniel H...\n",
       "4       NFL   Ryan Tannehill will start for Dolphins on Sunday\n",
       "5       NFL       Giants encourage Ballentine to skip minicamp\n",
       "6       NFL     Source: Raiders' Crowell hurt, done for season\n",
       "7       NFL  Steelers' mistakes lead to Broncos' surprising...\n",
       "8       NFL  Panthers stumbling after crushing loss to Seah...\n",
       "9       NFL  Raiders signing tight end off Ravens practice ...\n",
       "10      NFL          2019 NFL draft: Fantasy football reaction\n",
       "11      NFL  2019 NFL draft: Biggest post-draft questions f...\n",
       "12      NFL  Chiefs hopeful Eric Berry can return to practi...\n",
       "13      NFL    Malcolm Jenkins: We lacked fight in New Orleans\n",
       "14      NFL  AFC playoff picture: Chiefs stay on top of a w...\n",
       "15      NFL                         PFT's Week 12 superlatives\n",
       "16      NFL  Packers left tackle David Bakhtiari suffers tw...\n",
       "17      NFL  Aaron Rodgers knows the Packers need to win ou...\n",
       "18      NFL       Should Ravens stick with Jackson as starter?\n",
       "19      NFL  FMIA Week 11—Embedded in New Orleans: The Ritz...\n",
       "20      NFL  Passing stats are up around the NFL, but Tom B...\n",
       "21      NFL  FMIA Week 10: Rams Manage Win After Fire-Fille...\n",
       "22      NFL    Cowboys to sign Hall of Famer Larry Allen's son\n",
       "23      NFL                      Giants vs. Athletics, Jul. 31\n",
       "24      NFL       Ravens shouldn't be indecisive on Kaepernick\n",
       "25   Soccer  U.S. U-20 MNT sets up rematch with Mexico in C...\n",
       "26   Soccer  LIVE: USMNT vs. Italy – Pulisic wearing captai...\n",
       "27   Soccer            Report: Chelsea to double Kante’s wages\n",
       "28   Soccer  UEFA to introduce VAR in Champions League knoc...\n",
       "29   Soccer         UEFA: FFP rules must be “strong and clear”\n",
       "..      ...                                                ...\n",
       "31   Soccer   Extended Highlights: Tottenham roll past Chelsea\n",
       "32   Soccer  Premier League clubs ranked by highest average...\n",
       "33   Soccer        FOLLOW LIVE: MLS Conference Finals 1st Legs\n",
       "34   Soccer      Sources: Barca to copy City against Liverpool\n",
       "35   Soccer     Weekend review: Liverpool and City won't blink\n",
       "36   Soccer  Messi, Dembele combine to give Barca late equa...\n",
       "37   Soccer  Bundesliga wrap: Bayern falls, Eintracht rises...\n",
       "38   Soccer                          Arsenal v. Leicester City\n",
       "39   Soccer  De Gea 4/10 as his howler costs Man United vic...\n",
       "40   Soccer  UCL takeaways: Liverpool problems extended bey...\n",
       "41   Soccer   Source: Chelsea not for sale to UK's richest man\n",
       "42   Soccer       Ramsey has played last Arsenal match - Emery\n",
       "43   Soccer    Sarri worried as Chelsea's defence faces crisis\n",
       "44   Soccer      Relive Arsenal's season opening win with fans\n",
       "45      NBA  Three Things to Know: Kevin Durant goes off fo...\n",
       "46      NBA  Kevin Durant gave his jersey to Drake on the c...\n",
       "47      NBA  Report: Some Cavaliers players upset about Kyl...\n",
       "48      NBA  PBT Extra: Utah gets a little help with Kyle K...\n",
       "49      NBA  Lillard: Blazers' jawing at refs reveals distr...\n",
       "50      NBA     Rockets, Warriors both hope for cleaner Game 2\n",
       "51      NBA  NBA playoff winners and losers: Russ, Dame and...\n",
       "52      NBA    McCollum leads Blazers past cold Nuggets, 97-90\n",
       "53      NBA     Blazers seeking better balance against Nuggets\n",
       "54      NBA          Korver won't solve all of Utah's problems\n",
       "55      NBA  Report: Cavaliers willing to take on long-term...\n",
       "56      NBA      Durant outplaying Harden when it matters most\n",
       "57      NBA   KD: Harden's style 'clever,' not cheating at all\n",
       "58      NBA     Sources: Popovich expected to sign 3-year deal\n",
       "59      NBA  Cavaliers trade Kyle Korver to Jazz for Alec B...\n",
       "60      NBA  Durant leads the way again, Warriors lead Rock...\n",
       "\n",
       "[61 rows x 2 columns]"
      ]
     },
     "execution_count": 4,
     "metadata": {},
     "output_type": "execute_result"
    }
   ],
   "source": [
    "# Example Data\n",
    "# With this teeny tiny example data set, we aim to classify Sports article headlines into the relevant sport\n",
    "data = [\n",
    "    ['NFL', 'Lighter Ezekiel Elliott is carrying Cowboys on his shoulders'],\n",
    "    ['NFL', 'Giants sticking with Eli Manning, but won’t rule out Alex Tanney or Kyle Lauletta'],\n",
    "    ['NFL', 'Jaguars will put Andrew Norwell on injured reserve'],\n",
    "    ['NFL', 'Jaguars fire offensive coordinator Nathaniel Hackett'],\n",
    "    ['NFL', 'Ryan Tannehill will start for Dolphins on Sunday'],\n",
    "    ['NFL', 'Giants encourage Ballentine to skip minicamp'],\n",
    "    ['NFL', \"Source: Raiders' Crowell hurt, done for season\"],\n",
    "    ['NFL', \"Steelers' mistakes lead to Broncos' surprising win\"],\n",
    "    ['NFL', 'Panthers stumbling after crushing loss to Seahawks'],\n",
    "    ['NFL', 'Raiders signing tight end off Ravens practice squad'],\n",
    "    ['NFL', '2019 NFL draft: Fantasy football reaction'],\n",
    "    ['NFL', '2019 NFL draft: Biggest post-draft questions for all 32 teams'],\n",
    "    ['NFL', 'Chiefs hopeful Eric Berry can return to practice next week'],\n",
    "    ['NFL', 'Malcolm Jenkins: We lacked fight in New Orleans'],\n",
    "    ['NFL', 'AFC playoff picture: Chiefs stay on top of a wide-open race'],\n",
    "    ['NFL', \"PFT's Week 12 superlatives\"],\n",
    "    ['NFL', 'Packers left tackle David Bakhtiari suffers two knee injuries'],\n",
    "    ['NFL', 'Aaron Rodgers knows the Packers need to win out and get help'],\n",
    "    ['NFL', 'Should Ravens stick with Jackson as starter?'],\n",
    "    ['NFL', 'FMIA Week 11—Embedded in New Orleans: The Ritz, the Rout and the Reason the Saints Are Unstoppable'],\n",
    "    ['NFL', 'Passing stats are up around the NFL, but Tom Brady’s are down'],\n",
    "    ['NFL', 'FMIA Week 10: Rams Manage Win After Fire-Filled Week of ‘Horror’'],\n",
    "    ['NFL', \"Cowboys to sign Hall of Famer Larry Allen's son\"],\n",
    "    ['NFL', 'Giants vs. Athletics, Jul. 31'],\n",
    "    ['NFL', \"Ravens shouldn't be indecisive on Kaepernick\"],\n",
    "    ['Soccer', 'U.S. U-20 MNT sets up rematch with Mexico in CONCACAF U-20 Championship'],\n",
    "    ['Soccer', 'LIVE: USMNT vs. Italy – Pulisic wearing captain’s armband'],\n",
    "    ['Soccer', 'Report: Chelsea to double Kante’s wages'],\n",
    "    ['Soccer', 'UEFA to introduce VAR in Champions League knockout stage'],\n",
    "    ['Soccer', 'UEFA: FFP rules must be “strong and clear”'],\n",
    "    ['Soccer', 'Tottenham throttle Chelsea in impressive fashion'],\n",
    "    ['Soccer', 'Extended Highlights: Tottenham roll past Chelsea'],\n",
    "    ['Soccer', 'Premier League clubs ranked by highest average salaries'],\n",
    "    ['Soccer', 'FOLLOW LIVE: MLS Conference Finals 1st Legs'],\n",
    "    ['Soccer', 'Sources: Barca to copy City against Liverpool'],\n",
    "    ['Soccer', \"Weekend review: Liverpool and City won't blink\"],\n",
    "    ['Soccer', 'Messi, Dembele combine to give Barca late equalizer at Atleti'],\n",
    "    ['Soccer', 'Bundesliga wrap: Bayern falls, Eintracht rises, USMNT’s Wright debuts'],\n",
    "    ['Soccer', 'Arsenal v. Leicester City'],\n",
    "    ['Soccer', 'De Gea 4/10 as his howler costs Man United victory'],\n",
    "    ['Soccer', 'UCL takeaways: Liverpool problems extended beyond Messi'],\n",
    "    ['Soccer', \"Source: Chelsea not for sale to UK's richest man\"],\n",
    "    ['Soccer', 'Ramsey has played last Arsenal match - Emery'],\n",
    "    ['Soccer', \"Sarri worried as Chelsea's defence faces crisis\"],\n",
    "    ['Soccer', \"Relive Arsenal's season opening win with fans\"],\n",
    "    ['NBA', \"Three Things to Know: Kevin Durant goes off for 51 but Kawhi Leonard, Raptors get win\"],\n",
    "    ['NBA', \"Kevin Durant gave his jersey to Drake on the court postgame\"],\n",
    "    ['NBA', \"Report: Some Cavaliers players upset about Kyle Korver trade\"],\n",
    "    ['NBA', \"PBT Extra: Utah gets a little help with Kyle Korver trade\"],\n",
    "    ['NBA', \"Lillard: Blazers' jawing at refs reveals distraction\"],\n",
    "    ['NBA', \"Rockets, Warriors both hope for cleaner Game 2\"],\n",
    "    ['NBA', \"NBA playoff winners and losers: Russ, Dame and the Warriors\"],\n",
    "    ['NBA', \"McCollum leads Blazers past cold Nuggets, 97-90\"],\n",
    "    ['NBA', \"Blazers seeking better balance against Nuggets\"],\n",
    "    ['NBA', \"Korver won't solve all of Utah's problems\"],\n",
    "    ['NBA', \"Report: Cavaliers willing to take on long-term salary in trades\"],\n",
    "    ['NBA', \"Durant outplaying Harden when it matters most\"],\n",
    "    ['NBA', \"KD: Harden's style 'clever,' not cheating at all\"],\n",
    "    ['NBA', \"Sources: Popovich expected to sign 3-year deal\"],\n",
    "    ['NBA', \"Cavaliers trade Kyle Korver to Jazz for Alec Burks, second-rounders\"],\n",
    "    ['NBA', \"Durant leads the way again, Warriors lead Rockets 2-0\"]\n",
    "]\n",
    "\n",
    "df = pd.DataFrame(data=data, columns=['Category', 'Title'])\n",
    "df"
   ]
  },
  {
   "cell_type": "code",
   "execution_count": 5,
   "metadata": {
    "ExecuteTime": {
     "end_time": "2019-05-03T00:30:19.545919Z",
     "start_time": "2019-05-03T00:30:19.387346Z"
    },
    "scrolled": true
   },
   "outputs": [
    {
     "data": {
      "image/png": "[encoded data removed]",
      "text/plain": [
       "<Figure size 576x432 with 1 Axes>"
      ]
     },
     "metadata": {},
     "output_type": "display_data"
    }
   ],
   "source": [
    "sns.set()\n",
    "fig = plt.figure(figsize=(8, 6))\n",
    "df.groupby('Category').Title.count().plot.bar(ylim=0)\n",
    "plt.show()"
   ]
  },
  {
   "cell_type": "markdown",
   "metadata": {},
   "source": [
    "# Feature Extraction"
   ]
  },
  {
   "cell_type": "markdown",
   "metadata": {},
   "source": [
    "## tf-idf\n",
    "\n",
    "We'll use Term Frequency Inverse Document Frequency (tf-idf) to extract features from the text. tf-idf reflects how important a word is to a document in a collection. \n",
    "\n",
    "### Term Frequency\n",
    "\n",
    "Term frequency $tf(t,d)$ can be simply the raw count of a term in a document. Let's denote the raw count by $f_{t,d}$. You can also calculate term frequency by adjusing for document length\n",
    "\n",
    "$tf(t,d) = \\frac{f_{t,d}}{Number of Words in D}$\n",
    "\n",
    "### Inverse Document Frequency\n",
    "Inverse document frequency measures how much information the word provides, i.e. if it's common or rare across all the documents\n",
    "\n",
    "$idf(t,D) = log \\frac{N}{|{d \\in D: t\\in d}|}$\n",
    "\n",
    "$N$ is the total number of documents in the corpus\n",
    "$|{d \\in D: t \\in d}|$ is the number of documents where the term $t$ appears\n",
    "\n",
    "### Term Frequency - Inverse Document Frequency\n",
    "\n",
    "$tfidf(t,d, D) = tf(t, d) \\cdot idf(t, D)$\n",
    "\n",
    "## Parameters in CountVectorizer\n",
    "\n",
    "* **min_df**: Minimum number of documents a word must be present in to be kept\n",
    "* **lowercase**: Convert all characters to lowercase before tokenizing\n",
    "* **stop_words**: Common words that we can ignore when tokenizing\n",
    "* **norm**: Set to l2 to ensure all feature vectors have a euclidean norm of 1\n",
    "* **ngram_range**: Set to (1, 2) to indicate considering both unigrams and bigrams"
   ]
  },
  {
   "cell_type": "code",
   "execution_count": 6,
   "metadata": {
    "ExecuteTime": {
     "end_time": "2019-05-03T00:30:30.307288Z",
     "start_time": "2019-05-03T00:30:30.302296Z"
    }
   },
   "outputs": [
    {
     "name": "stdout",
     "output_type": "stream",
     "text": [
      "frozenset({'if', 'nowhere', 'none', 'yours', 'this', 'becoming', 'hereby', 'empty', 'show', 'why', 'third', 'who', 'himself', 'system', 'than', 'out', 'although', 'hundred', 'noone', 'move', 'last', 'their', 'yourselves', 'whoever', 'becomes', 'hereupon', 'on', 'very', 'give', 'the', 'amount', 'part', 'whereby', 'until', 'while', 'my', 'thin', 'each', 'thereupon', 'sincere', 'toward', 'everyone', 'has', 'something', 'even', 'whom', 'other', 'yet', 'beyond', 'could', 'inc', 'that', 'with', 'whatever', 'mine', 'afterwards', 'else', 'any', 'call', 'within', 'more', 'beside', 'full', 'always', 'thereby', 'five', 'a', 'since', 'forty', 'someone', 'amongst', 'latter', 'cannot', 'nobody', 'off', 'over', 'per', 'seem', 'do', 'therefore', 'not', 'without', 'herself', 'itself', 'now', 'anything', 'through', 'us', 'either', 'to', 'he', 'into', 'whole', 'during', 'nothing', 'up', 'became', 'then', 'anyone', 'rather', 'found', 'her', 'however', 'together', 'being', 'due', 'meanwhile', 'nevertheless', 'nor', 'should', 'thick', 'might', 'done', 'anyway', 'myself', 'eleven', 'would', 'ltd', 'amoungst', 'once', 'can', 'his', 'eight', 'may', 'one', 'twenty', 'after', 'bill', 'every', 'fill', 'among', 'too', 'been', 'between', 'again', 'but', 'herein', 'four', 'enough', 'had', 'namely', 'seeming', 'somehow', 'therein', 'top', 'them', 'well', 'become', 'both', 'have', 'go', 'am', 'otherwise', 'wherein', 'so', 'all', 'fire', 'neither', 'first', 'another', 'see', 'sometimes', 'below', 'made', 'whereafter', 'whenever', 'bottom', 'indeed', 'much', 'those', 'two', 'there', 'eg', 'everything', 'were', 're', 'perhaps', 'where', 'whither', 'yourself', 'an', 'before', 'somewhere', 'please', 'i', 'con', 'cry', 'serious', 'thereafter', 'must', 'never', 'hasnt', 'still', 'few', 'about', 'thru', 'its', 'no', 'because', 'our', 'also', 'de', 'against', 'is', 'how', 'anywhere', 'besides', 'others', 'seemed', 'upon', 'fifty', 'get', 'co', 'in', 'find', 'here', 'sixty', 'couldnt', 'by', 'behind', 'alone', 'me', 'these', 'back', 'anyhow', 'and', 'etc', 'already', 'front', 'less', 'side', 'be', 'seems', 'interest', 'some', 'when', 'you', 'your', 'they', 'or', 'keep', 'of', 'whereas', 'describe', 'which', 'will', 'him', 'across', 'whereupon', 'beforehand', 'further', 'name', 'almost', 'down', 'thence', 'around', 'onto', 'above', 'hereafter', 'whence', 'whether', 'from', 'several', 'hence', 'hers', 'ie', 'latterly', 'next', 'ourselves', 'same', 'moreover', 'twelve', 'she', 'sometime', 'such', 'towards', 'via', 'was', 'what', 'it', 'elsewhere', 'nine', 'formerly', 'put', 'mill', 'former', 'everywhere', 'ten', 'under', 'wherever', 'though', 'themselves', 'as', 'except', 'un', 'at', 'for', 'six', 'along', 'ours', 'only', 'thus', 'take', 'most', 'whose', 'cant', 'own', 'throughout', 'mostly', 'least', 'are', 'often', 'three', 'we', 'detail', 'fifteen', 'ever', 'many'})\n"
     ]
    }
   ],
   "source": [
    "from sklearn.feature_extraction.text import CountVectorizer, TfidfTransformer, ENGLISH_STOP_WORDS\n",
    "\n",
    "# Custom Stop Words\n",
    "print(ENGLISH_STOP_WORDS)  # here's the default English stop words"
   ]
  },
  {
   "cell_type": "code",
   "execution_count": 7,
   "metadata": {
    "ExecuteTime": {
     "end_time": "2019-05-03T00:30:49.964029Z",
     "start_time": "2019-05-03T00:30:49.960040Z"
    }
   },
   "outputs": [],
   "source": [
    "# Demonstrating how you would add custom stop words\n",
    "custom_stop_words = {\n",
    "    'v',\n",
    "    'vs',\n",
    "}\n",
    "stop_words = ENGLISH_STOP_WORDS.union(custom_stop_words)"
   ]
  },
  {
   "cell_type": "code",
   "execution_count": 9,
   "metadata": {
    "ExecuteTime": {
     "end_time": "2019-05-03T00:30:59.533135Z",
     "start_time": "2019-05-03T00:30:59.529095Z"
    }
   },
   "outputs": [],
   "source": [
    "# Let's split our data set into a training set and a test set\n",
    "from sklearn.model_selection import train_test_split\n",
    "\n",
    "X_train, X_test, y_train, y_test = train_test_split(\n",
    "    df.Title, df.Category, test_size=0.20, random_state=0)"
   ]
  },
  {
   "cell_type": "code",
   "execution_count": 10,
   "metadata": {
    "ExecuteTime": {
     "end_time": "2019-05-03T00:31:06.057454Z",
     "start_time": "2019-05-03T00:31:06.047453Z"
    }
   },
   "outputs": [
    {
     "data": {
      "text/plain": [
       "(48, 504)"
      ]
     },
     "execution_count": 10,
     "metadata": {},
     "output_type": "execute_result"
    }
   ],
   "source": [
    "# CountVectorizer converts a collection of text documents into a matrix of word counts\n",
    "# where each row represents a document, and the columns are each word feature (unigrams and bigrams)\n",
    "count_vect = CountVectorizer(\n",
    "    stop_words=stop_words, ngram_range=(1, 2), min_df=1)\n",
    "X_train_counts = count_vect.fit_transform(X_train)\n",
    "X_train_counts.shape"
   ]
  },
  {
   "cell_type": "code",
   "execution_count": 11,
   "metadata": {
    "ExecuteTime": {
     "end_time": "2019-05-03T00:31:12.862471Z",
     "start_time": "2019-05-03T00:31:12.859191Z"
    }
   },
   "outputs": [
    {
     "name": "stdout",
     "output_type": "stream",
     "text": [
      "  (0, 368)\t1\n",
      "  (0, 357)\t1\n",
      "  (0, 200)\t1\n",
      "  (0, 48)\t1\n",
      "  (0, 249)\t1\n",
      "  (0, 109)\t1\n",
      "  (0, 367)\t1\n",
      "  (0, 356)\t1\n",
      "  (0, 199)\t1\n",
      "  (0, 47)\t1\n",
      "  (0, 248)\t1\n"
     ]
    }
   ],
   "source": [
    "print(X_train_counts[3])"
   ]
  },
  {
   "cell_type": "code",
   "execution_count": 12,
   "metadata": {
    "ExecuteTime": {
     "end_time": "2019-05-03T00:31:25.680759Z",
     "start_time": "2019-05-03T00:31:25.664802Z"
    }
   },
   "outputs": [
    {
     "name": "stdout",
     "output_type": "stream",
     "text": [
      "  (0, 248)\t0.30575065111394517\n",
      "  (0, 47)\t0.2552751328155287\n",
      "  (0, 199)\t0.30575065111394517\n",
      "  (0, 356)\t0.30575065111394517\n",
      "  (0, 367)\t0.30575065111394517\n",
      "  (0, 109)\t0.30575065111394517\n",
      "  (0, 249)\t0.30575065111394517\n",
      "  (0, 48)\t0.30575065111394517\n",
      "  (0, 200)\t0.30575065111394517\n",
      "  (0, 357)\t0.30575065111394517\n",
      "  (0, 368)\t0.30575065111394517\n"
     ]
    }
   ],
   "source": [
    "# TfidfTransformer transforms a count matrix to a normalized tf-idf representation\n",
    "tfidf_transformer = TfidfTransformer()\n",
    "X_train_tfidf = tfidf_transformer.fit_transform(X_train_counts)\n",
    "print(X_train_tfidf[3])"
   ]
  },
  {
   "cell_type": "code",
   "execution_count": 13,
   "metadata": {
    "ExecuteTime": {
     "end_time": "2019-05-03T00:31:29.153332Z",
     "start_time": "2019-05-03T00:31:29.139391Z"
    }
   },
   "outputs": [
    {
     "data": {
      "text/plain": [
       "{'source': 416,\n",
       " 'chelsea': 63,\n",
       " 'sale': 394,\n",
       " 'uk': 462,\n",
       " 'richest': 369,\n",
       " 'man': 262,\n",
       " 'source chelsea': 417,\n",
       " 'chelsea sale': 66,\n",
       " 'sale uk': 395,\n",
       " 'uk richest': 463,\n",
       " 'richest man': 370,\n",
       " 'follow': 158,\n",
       " 'live': 252,\n",
       " 'mls': 280,\n",
       " 'conference': 84,\n",
       " 'finals': 154,\n",
       " '1st': 7,\n",
       " 'legs': 241,\n",
       " 'follow live': 159,\n",
       " 'live mls': 253,\n",
       " 'mls conference': 281,\n",
       " 'conference finals': 85,\n",
       " 'finals 1st': 155,\n",
       " '1st legs': 8,\n",
       " 'sarri': 396,\n",
       " 'worried': 496,\n",
       " 'defence': 105,\n",
       " 'faces': 143,\n",
       " 'crisis': 94,\n",
       " 'sarri worried': 397,\n",
       " 'worried chelsea': 497,\n",
       " 'chelsea defence': 64,\n",
       " 'defence faces': 106,\n",
       " 'faces crisis': 144,\n",
       " 'lillard': 248,\n",
       " 'blazers': 47,\n",
       " 'jawing': 199,\n",
       " 'refs': 356,\n",
       " 'reveals': 367,\n",
       " 'distraction': 109,\n",
       " 'lillard blazers': 249,\n",
       " 'blazers jawing': 48,\n",
       " 'jawing refs': 200,\n",
       " 'refs reveals': 357,\n",
       " 'reveals distraction': 368,\n",
       " 'steelers': 427,\n",
       " 'mistakes': 278,\n",
       " 'lead': 233,\n",
       " 'broncos': 52,\n",
       " 'surprising': 442,\n",
       " 'win': 487,\n",
       " 'steelers mistakes': 428,\n",
       " 'mistakes lead': 279,\n",
       " 'lead broncos': 234,\n",
       " 'broncos surprising': 53,\n",
       " 'surprising win': 443,\n",
       " 'afc': 20,\n",
       " 'playoff': 326,\n",
       " 'picture': 320,\n",
       " 'chiefs': 67,\n",
       " 'stay': 425,\n",
       " 'wide': 483,\n",
       " 'open': 298,\n",
       " 'race': 338,\n",
       " 'afc playoff': 21,\n",
       " 'playoff picture': 327,\n",
       " 'picture chiefs': 321,\n",
       " 'chiefs stay': 69,\n",
       " 'stay wide': 426,\n",
       " 'wide open': 484,\n",
       " 'open race': 299,\n",
       " 'premier': 335,\n",
       " 'league': 237,\n",
       " 'clubs': 76,\n",
       " 'ranked': 346,\n",
       " 'highest': 179,\n",
       " 'average': 31,\n",
       " 'salaries': 391,\n",
       " 'premier league': 336,\n",
       " 'league clubs': 238,\n",
       " 'clubs ranked': 77,\n",
       " 'ranked highest': 347,\n",
       " 'highest average': 180,\n",
       " 'average salaries': 32,\n",
       " 'nba': 286,\n",
       " 'winners': 491,\n",
       " 'losers': 256,\n",
       " 'russ': 387,\n",
       " 'dame': 99,\n",
       " 'warriors': 476,\n",
       " 'nba playoff': 287,\n",
       " 'playoff winners': 328,\n",
       " 'winners losers': 492,\n",
       " 'losers russ': 257,\n",
       " 'russ dame': 388,\n",
       " 'dame warriors': 100,\n",
       " 'uefa': 460,\n",
       " 'ffp': 148,\n",
       " 'rules': 385,\n",
       " 'strong': 433,\n",
       " 'clear': 73,\n",
       " 'uefa ffp': 461,\n",
       " 'ffp rules': 149,\n",
       " 'rules strong': 386,\n",
       " 'strong clear': 434,\n",
       " 'ramsey': 344,\n",
       " 'played': 322,\n",
       " 'arsenal': 24,\n",
       " 'match': 268,\n",
       " 'emery': 126,\n",
       " 'ramsey played': 345,\n",
       " 'played arsenal': 323,\n",
       " 'arsenal match': 26,\n",
       " 'match emery': 269,\n",
       " 'report': 362,\n",
       " 'cavaliers': 58,\n",
       " 'willing': 485,\n",
       " 'long': 254,\n",
       " 'term': 448,\n",
       " 'salary': 392,\n",
       " 'trades': 459,\n",
       " 'report cavaliers': 363,\n",
       " 'cavaliers willing': 60,\n",
       " 'willing long': 486,\n",
       " 'long term': 255,\n",
       " 'term salary': 449,\n",
       " 'salary trades': 393,\n",
       " 'ravens': 350,\n",
       " 'stick': 429,\n",
       " 'jackson': 195,\n",
       " 'starter': 422,\n",
       " 'ravens stick': 353,\n",
       " 'stick jackson': 430,\n",
       " 'jackson starter': 196,\n",
       " 'kd': 212,\n",
       " 'harden': 174,\n",
       " 'style': 437,\n",
       " 'clever': 74,\n",
       " 'cheating': 62,\n",
       " 'kd harden': 213,\n",
       " 'harden style': 176,\n",
       " 'style clever': 438,\n",
       " 'clever cheating': 75,\n",
       " 'double': 110,\n",
       " 'kante': 208,\n",
       " 'wages': 475,\n",
       " 'report chelsea': 364,\n",
       " 'chelsea double': 65,\n",
       " 'double kante': 111,\n",
       " 'kante wages': 209,\n",
       " 'pft': 318,\n",
       " 'week': 478,\n",
       " '12': 5,\n",
       " 'superlatives': 441,\n",
       " 'pft week': 319,\n",
       " 'week 12': 481,\n",
       " '12 superlatives': 6,\n",
       " 'giants': 167,\n",
       " 'encourage': 127,\n",
       " 'ballentine': 37,\n",
       " 'skip': 412,\n",
       " 'minicamp': 277,\n",
       " 'giants encourage': 169,\n",
       " 'encourage ballentine': 128,\n",
       " 'ballentine skip': 38,\n",
       " 'skip minicamp': 413,\n",
       " 'extended': 137,\n",
       " 'highlights': 181,\n",
       " 'tottenham': 456,\n",
       " 'roll': 379,\n",
       " 'past': 313,\n",
       " 'extended highlights': 138,\n",
       " 'highlights tottenham': 182,\n",
       " 'tottenham roll': 457,\n",
       " 'roll past': 380,\n",
       " 'past chelsea': 314,\n",
       " 'packers': 306,\n",
       " 'left': 239,\n",
       " 'tackle': 444,\n",
       " 'david': 101,\n",
       " 'bakhtiari': 33,\n",
       " 'suffers': 439,\n",
       " 'knee': 216,\n",
       " 'injuries': 194,\n",
       " 'packers left': 307,\n",
       " 'left tackle': 240,\n",
       " 'tackle david': 445,\n",
       " 'david bakhtiari': 102,\n",
       " 'bakhtiari suffers': 34,\n",
       " 'suffers knee': 440,\n",
       " 'knee injuries': 217,\n",
       " 'mccollum': 271,\n",
       " 'leads': 235,\n",
       " 'cold': 78,\n",
       " 'nuggets': 294,\n",
       " '97': 16,\n",
       " '90': 15,\n",
       " 'mccollum leads': 272,\n",
       " 'leads blazers': 236,\n",
       " 'blazers past': 49,\n",
       " 'past cold': 315,\n",
       " 'cold nuggets': 79,\n",
       " 'nuggets 97': 295,\n",
       " '97 90': 17,\n",
       " 'passing': 311,\n",
       " 'stats': 423,\n",
       " 'nfl': 292,\n",
       " 'tom': 454,\n",
       " 'brady': 51,\n",
       " 'passing stats': 312,\n",
       " 'stats nfl': 424,\n",
       " 'nfl tom': 293,\n",
       " 'tom brady': 455,\n",
       " 'sources': 419,\n",
       " 'popovich': 329,\n",
       " 'expected': 135,\n",
       " 'sign': 408,\n",
       " 'year': 502,\n",
       " 'deal': 103,\n",
       " 'sources popovich': 420,\n",
       " 'popovich expected': 330,\n",
       " 'expected sign': 136,\n",
       " 'sign year': 409,\n",
       " 'year deal': 503,\n",
       " 'panthers': 309,\n",
       " 'stumbling': 435,\n",
       " 'crushing': 97,\n",
       " 'loss': 258,\n",
       " 'seahawks': 398,\n",
       " 'panthers stumbling': 310,\n",
       " 'stumbling crushing': 436,\n",
       " 'crushing loss': 98,\n",
       " 'loss seahawks': 259,\n",
       " 'malcolm': 260,\n",
       " 'jenkins': 201,\n",
       " 'lacked': 228,\n",
       " 'fight': 150,\n",
       " 'new': 290,\n",
       " 'orleans': 302,\n",
       " 'malcolm jenkins': 261,\n",
       " 'jenkins lacked': 202,\n",
       " 'lacked fight': 229,\n",
       " 'fight new': 151,\n",
       " 'new orleans': 291,\n",
       " '20': 9,\n",
       " 'mnt': 282,\n",
       " 'sets': 403,\n",
       " 'rematch': 360,\n",
       " 'mexico': 275,\n",
       " 'concacaf': 82,\n",
       " 'championship': 61,\n",
       " '20 mnt': 11,\n",
       " 'mnt sets': 283,\n",
       " 'sets rematch': 404,\n",
       " 'rematch mexico': 361,\n",
       " 'mexico concacaf': 276,\n",
       " 'concacaf 20': 83,\n",
       " '20 championship': 10,\n",
       " 'bundesliga': 54,\n",
       " 'wrap': 498,\n",
       " 'bayern': 41,\n",
       " 'falls': 145,\n",
       " 'eintracht': 118,\n",
       " 'rises': 371,\n",
       " 'usmnt': 469,\n",
       " 'wright': 500,\n",
       " 'debuts': 104,\n",
       " 'bundesliga wrap': 55,\n",
       " 'wrap bayern': 499,\n",
       " 'bayern falls': 42,\n",
       " 'falls eintracht': 146,\n",
       " 'eintracht rises': 119,\n",
       " 'rises usmnt': 372,\n",
       " 'usmnt wright': 470,\n",
       " 'wright debuts': 501,\n",
       " 'aaron': 18,\n",
       " 'rodgers': 377,\n",
       " 'knows': 220,\n",
       " 'need': 288,\n",
       " 'help': 177,\n",
       " 'aaron rodgers': 19,\n",
       " 'rodgers knows': 378,\n",
       " 'knows packers': 221,\n",
       " 'packers need': 308,\n",
       " 'need win': 289,\n",
       " 'win help': 490,\n",
       " 'things': 450,\n",
       " 'know': 218,\n",
       " 'kevin': 214,\n",
       " 'durant': 114,\n",
       " 'goes': 171,\n",
       " '51': 13,\n",
       " 'kawhi': 210,\n",
       " 'leonard': 244,\n",
       " 'raptors': 348,\n",
       " 'things know': 451,\n",
       " 'know kevin': 219,\n",
       " 'kevin durant': 215,\n",
       " 'durant goes': 116,\n",
       " 'goes 51': 172,\n",
       " '51 kawhi': 14,\n",
       " 'kawhi leonard': 211,\n",
       " 'leonard raptors': 245,\n",
       " 'raptors win': 349,\n",
       " 'pbt': 316,\n",
       " 'extra': 139,\n",
       " 'utah': 471,\n",
       " 'gets': 165,\n",
       " 'little': 250,\n",
       " 'kyle': 225,\n",
       " 'korver': 222,\n",
       " 'trade': 458,\n",
       " 'pbt extra': 317,\n",
       " 'extra utah': 140,\n",
       " 'utah gets': 472,\n",
       " 'gets little': 166,\n",
       " 'little help': 251,\n",
       " 'help kyle': 178,\n",
       " 'kyle korver': 226,\n",
       " 'korver trade': 223,\n",
       " 'won': 493,\n",
       " 'solve': 414,\n",
       " 'problems': 337,\n",
       " 'korver won': 224,\n",
       " 'won solve': 495,\n",
       " 'solve utah': 415,\n",
       " 'utah problems': 473,\n",
       " 'leicester': 242,\n",
       " 'city': 70,\n",
       " 'arsenal leicester': 25,\n",
       " 'leicester city': 243,\n",
       " 'sticking': 431,\n",
       " 'eli': 120,\n",
       " 'manning': 266,\n",
       " 'rule': 383,\n",
       " 'alex': 22,\n",
       " 'tanney': 446,\n",
       " 'lauletta': 232,\n",
       " 'giants sticking': 170,\n",
       " 'sticking eli': 432,\n",
       " 'eli manning': 121,\n",
       " 'manning won': 267,\n",
       " 'won rule': 494,\n",
       " 'rule alex': 384,\n",
       " 'alex tanney': 23,\n",
       " 'tanney kyle': 447,\n",
       " 'kyle lauletta': 227,\n",
       " 'hopeful': 185,\n",
       " 'eric': 133,\n",
       " 'berry': 43,\n",
       " 'return': 365,\n",
       " 'practice': 332,\n",
       " 'chiefs hopeful': 68,\n",
       " 'hopeful eric': 186,\n",
       " 'eric berry': 134,\n",
       " 'berry return': 44,\n",
       " 'return practice': 366,\n",
       " 'practice week': 334,\n",
       " 'gave': 161,\n",
       " 'jersey': 203,\n",
       " 'drake': 112,\n",
       " 'court': 90,\n",
       " 'postgame': 331,\n",
       " 'durant gave': 115,\n",
       " 'gave jersey': 162,\n",
       " 'jersey drake': 204,\n",
       " 'drake court': 113,\n",
       " 'court postgame': 91,\n",
       " 'shouldn': 406,\n",
       " 'indecisive': 192,\n",
       " 'kaepernick': 207,\n",
       " 'ravens shouldn': 352,\n",
       " 'shouldn indecisive': 407,\n",
       " 'indecisive kaepernick': 193,\n",
       " 'raiders': 339,\n",
       " 'crowell': 95,\n",
       " 'hurt': 190,\n",
       " 'season': 399,\n",
       " 'source raiders': 418,\n",
       " 'raiders crowell': 340,\n",
       " 'crowell hurt': 96,\n",
       " 'hurt season': 191,\n",
       " 'athletics': 28,\n",
       " 'jul': 205,\n",
       " '31': 12,\n",
       " 'giants athletics': 168,\n",
       " 'athletics jul': 29,\n",
       " 'jul 31': 206,\n",
       " 'messi': 273,\n",
       " 'dembele': 107,\n",
       " 'combine': 80,\n",
       " 'barca': 39,\n",
       " 'late': 230,\n",
       " 'equalizer': 131,\n",
       " 'atleti': 30,\n",
       " 'messi dembele': 274,\n",
       " 'dembele combine': 108,\n",
       " 'combine barca': 81,\n",
       " 'barca late': 40,\n",
       " 'late equalizer': 231,\n",
       " 'equalizer atleti': 132,\n",
       " 'rockets': 375,\n",
       " 'hope': 183,\n",
       " 'cleaner': 71,\n",
       " 'game': 160,\n",
       " 'rockets warriors': 376,\n",
       " 'warriors hope': 477,\n",
       " 'hope cleaner': 184,\n",
       " 'cleaner game': 72,\n",
       " 'fmia': 156,\n",
       " '10': 0,\n",
       " 'rams': 342,\n",
       " 'manage': 264,\n",
       " 'filled': 152,\n",
       " 'horror': 187,\n",
       " 'fmia week': 157,\n",
       " 'week 10': 479,\n",
       " '10 rams': 2,\n",
       " 'rams manage': 343,\n",
       " 'manage win': 265,\n",
       " 'win filled': 489,\n",
       " 'filled week': 153,\n",
       " 'week horror': 482,\n",
       " '11': 3,\n",
       " 'embedded': 124,\n",
       " 'ritz': 373,\n",
       " 'rout': 381,\n",
       " 'reason': 354,\n",
       " 'saints': 389,\n",
       " 'unstoppable': 466,\n",
       " 'week 11': 480,\n",
       " '11 embedded': 4,\n",
       " 'embedded new': 125,\n",
       " 'orleans ritz': 303,\n",
       " 'ritz rout': 374,\n",
       " 'rout reason': 382,\n",
       " 'reason saints': 355,\n",
       " 'saints unstoppable': 390,\n",
       " 'signing': 410,\n",
       " 'tight': 452,\n",
       " 'end': 129,\n",
       " 'squad': 421,\n",
       " 'raiders signing': 341,\n",
       " 'signing tight': 411,\n",
       " 'tight end': 453,\n",
       " 'end ravens': 130,\n",
       " 'ravens practice': 351,\n",
       " 'practice squad': 333,\n",
       " 'gea': 163,\n",
       " 'howler': 188,\n",
       " 'costs': 88,\n",
       " 'united': 464,\n",
       " 'victory': 474,\n",
       " 'gea 10': 164,\n",
       " '10 howler': 1,\n",
       " 'howler costs': 189,\n",
       " 'costs man': 89,\n",
       " 'man united': 263,\n",
       " 'united victory': 465,\n",
       " 'outplaying': 304,\n",
       " 'matters': 270,\n",
       " 'durant outplaying': 117,\n",
       " 'outplaying harden': 305,\n",
       " 'harden matters': 175,\n",
       " 'jaguars': 197,\n",
       " 'offensive': 296,\n",
       " 'coordinator': 86,\n",
       " 'nathaniel': 284,\n",
       " 'hackett': 173,\n",
       " 'jaguars offensive': 198,\n",
       " 'offensive coordinator': 297,\n",
       " 'coordinator nathaniel': 87,\n",
       " 'nathaniel hackett': 285,\n",
       " 'lighter': 246,\n",
       " 'ezekiel': 141,\n",
       " 'elliott': 122,\n",
       " 'carrying': 56,\n",
       " 'cowboys': 92,\n",
       " 'shoulders': 405,\n",
       " 'lighter ezekiel': 247,\n",
       " 'ezekiel elliott': 142,\n",
       " 'elliott carrying': 123,\n",
       " 'carrying cowboys': 57,\n",
       " 'cowboys shoulders': 93,\n",
       " 'seeking': 401,\n",
       " 'better': 45,\n",
       " 'balance': 35,\n",
       " 'blazers seeking': 50,\n",
       " 'seeking better': 402,\n",
       " 'better balance': 46,\n",
       " 'balance nuggets': 36,\n",
       " 'players': 324,\n",
       " 'upset': 467,\n",
       " 'cavaliers players': 59,\n",
       " 'players upset': 325,\n",
       " 'upset kyle': 468,\n",
       " 'relive': 358,\n",
       " 'opening': 300,\n",
       " 'fans': 147,\n",
       " 'relive arsenal': 359,\n",
       " 'arsenal season': 27,\n",
       " 'season opening': 400,\n",
       " 'opening win': 301,\n",
       " 'win fans': 488}"
      ]
     },
     "execution_count": 13,
     "metadata": {},
     "output_type": "execute_result"
    }
   ],
   "source": [
    "count_vect.vocabulary_"
   ]
  },
  {
   "cell_type": "markdown",
   "metadata": {},
   "source": [
    "# Models to Consider"
   ]
  },
  {
   "cell_type": "markdown",
   "metadata": {},
   "source": [
    "## Naive Bayes\n",
    "Naive Bayes is a generative classifier. This classifier assumes the features (words in our case) are independent.\n",
    "\n",
    "Say we have classes $s_1, s_2, s_3$ etc and a certain event E. Naive Bayes calculates $P(s_1 | E), P(s_2 | E), P(s_3 | E)$, etc and then selects the class $s$ with the maximum probability value. Naive Bayes can thus give you the confidence or probability of the predicted class. \n",
    "\n",
    "Bayes Theorem states $P(s | E) = \\frac{P(E | s)P(s)}{P(E)}$\n",
    "\n",
    "There are multiple types of Naive Bayes classifiers such as, Multinomial, Gaussian, and Bernoulli. \n",
    "\n",
    "Multinomial is common in text classification with tf-idf measures, so that's what we use here. See the following excerpt from sklearn:\n",
    "\n",
    "\"The multinomial Naive Bayes classifier is suitable for classification with discrete features (e.g., word counts for text classification). The multinomial distribution normally requires integer feature counts. However, in practice, fractional counts such as tf-idf may also work.\"\n",
    "\n",
    "While Multinomial Naive Bayes works with occurrence counts of features, Bernoulli is designed for binary/boolean features. Gaussian is appropriate when the likelihood of the features is likely to be from a Gaussian distribution"
   ]
  },
  {
   "cell_type": "code",
   "execution_count": 14,
   "metadata": {
    "ExecuteTime": {
     "end_time": "2019-05-03T00:31:39.956803Z",
     "start_time": "2019-05-03T00:31:39.923885Z"
    }
   },
   "outputs": [
    {
     "name": "stdout",
     "output_type": "stream",
     "text": [
      "['NFL']\n"
     ]
    }
   ],
   "source": [
    "from sklearn.naive_bayes import MultinomialNB\n",
    "nb_clf = MultinomialNB().fit(X_train_tfidf, y_train)\n",
    "print(nb_clf.predict(count_vect.transform(\n",
    "    [\"Raiders signing tight end off Ravens practice squad\"])))"
   ]
  },
  {
   "cell_type": "code",
   "execution_count": 15,
   "metadata": {
    "ExecuteTime": {
     "end_time": "2019-05-03T00:31:41.038736Z",
     "start_time": "2019-05-03T00:31:41.031755Z"
    }
   },
   "outputs": [
    {
     "data": {
      "text/plain": [
       "array([[0.019015 , 0.9613508, 0.0196342]])"
      ]
     },
     "execution_count": 15,
     "metadata": {},
     "output_type": "execute_result"
    }
   ],
   "source": [
    "# predict_proba gives the probability of each class\n",
    "nb_clf.predict_proba(count_vect.transform(\n",
    "    [\"Raiders signing tight end off Ravens practice squad\"]))"
   ]
  },
  {
   "cell_type": "code",
   "execution_count": 30,
   "metadata": {
    "ExecuteTime": {
     "end_time": "2019-05-03T00:34:27.810381Z",
     "start_time": "2019-05-03T00:34:27.805376Z"
    }
   },
   "outputs": [
    {
     "data": {
      "text/plain": [
       "array(['Soccer', 'NFL', 'NBA', 'Soccer', 'NFL', 'NFL', 'Soccer', 'NBA',\n",
       "       'Soccer', 'NFL', 'NFL', 'NFL', 'Soccer'], dtype='<U6')"
      ]
     },
     "execution_count": 30,
     "metadata": {},
     "output_type": "execute_result"
    }
   ],
   "source": [
    "nb_y_pred = nb_clf.predict(count_vect.transform(X_test))\n",
    "nb_y_pred"
   ]
  },
  {
   "cell_type": "code",
   "execution_count": 17,
   "metadata": {
    "ExecuteTime": {
     "end_time": "2019-05-03T00:31:48.170212Z",
     "start_time": "2019-05-03T00:31:48.164230Z"
    }
   },
   "outputs": [
    {
     "data": {
      "text/plain": [
       "0.9230769230769231"
      ]
     },
     "execution_count": 17,
     "metadata": {},
     "output_type": "execute_result"
    }
   ],
   "source": [
    "nb_clf.score(count_vect.transform(X_test), y_test)"
   ]
  },
  {
   "cell_type": "markdown",
   "metadata": {},
   "source": [
    "## Support Vector Machine (SVM)\n",
    "[Reference Link](https://medium.com/machine-learning-101/chapter-2-svm-support-vector-machine-theory-f0812effc72)\n",
    "\n",
    "SVM is a discriminative classifier. You will also see \"SVC\", which stands for \"Support Vector Classifier\". Given labeled training data, the algorithm outputs an optimal hyperplane which categorizes new examples. SVM does not give a probability for the predicted class but you can produce a confidence measurement by measuring the distance of the point to the hyperplane\n",
    "\n",
    "Simple 2D example:\n",
    "![Example](https://cdn-images-1.medium.com/max/1600/1*Sg6wjASoZHPphF10tcPZGg.png)\n",
    "\n",
    "### Tuning Parameters\n",
    "#### Kernel\n",
    "[Reference Link](https://www.svm-tutorial.com/2014/10/svm-linear-kernel-good-text-classification/)\n",
    "\n",
    "The kernel function with sklearn can be linear, polynomial, rbf, or sigmoid. Whether you should choose a linear kernel or non-linear kernel, depends on your data set\n",
    "\n",
    "![Linear v Non-linear](https://i1.wp.com/www.svm-tutorial.com/wp-content/uploads/2014/07/linearlyVsNLinearly.png?w=545&ssl=1)\n",
    "\n",
    "![Kernel](https://scikit-learn.org/stable/_images/sphx_glr_plot_iris_0012.png)\n",
    "\n",
    "In general, the linear kernel is recommended for text classification. The linear kernel works well when there is a lot of features (i.e. words). The linear kernel is also faster and there are less parameters to tune. You only need to tune the C parameter. \n",
    "\n",
    "#### Regularization (C parameter in sklearn)\n",
    "The regularization parameter tells SVM how much you want to avoid misclassifying each training example. \n",
    "\n",
    "![Regularization C](https://i.stack.imgur.com/GbW5S.png)\n",
    "\n",
    "#### Gamma\n",
    "This parameter defines how far the influence of a single training example reaches. With low gamma, points far away from the plausible separation line are considered in calculation for the separation line. High gamma means only the points close to the plausible line are considered in calculation. \n",
    "\n",
    "![High Gamma](https://cdn-images-1.medium.com/max/1600/1*dGDQxV8j83VB90skHsXktw.png) \n",
    "![Low Gamma](https://cdn-images-1.medium.com/max/1600/1*ClmsnU_yb1YtIwAAr7krmg.png)"
   ]
  },
  {
   "cell_type": "code",
   "execution_count": 18,
   "metadata": {
    "ExecuteTime": {
     "end_time": "2019-05-03T00:31:56.235161Z",
     "start_time": "2019-05-03T00:31:55.988392Z"
    }
   },
   "outputs": [
    {
     "name": "stdout",
     "output_type": "stream",
     "text": [
      "['Soccer']\n"
     ]
    }
   ],
   "source": [
    "# SVM Classfier\n",
    "from sklearn.svm import LinearSVC\n",
    "svm_clf = LinearSVC(C=1.0).fit(X_train_tfidf, y_train)\n",
    "print(svm_clf.predict(count_vect.transform(\n",
    "    [\"Sarri “didn’t like anybody” on Chelsea on Saturday\"])))"
   ]
  },
  {
   "cell_type": "code",
   "execution_count": 19,
   "metadata": {
    "ExecuteTime": {
     "end_time": "2019-05-03T00:31:57.101301Z",
     "start_time": "2019-05-03T00:31:57.096315Z"
    }
   },
   "outputs": [
    {
     "data": {
      "text/plain": [
       "array([[-1.97850086,  2.97338807, -2.0520746 ]])"
      ]
     },
     "execution_count": 19,
     "metadata": {},
     "output_type": "execute_result"
    }
   ],
   "source": [
    "# Measuring distance to the hyperplane\n",
    "svm_clf.decision_function(count_vect.transform(\n",
    "    [\"Raiders signing tight end off Ravens practice squad\"]))"
   ]
  },
  {
   "cell_type": "code",
   "execution_count": 20,
   "metadata": {
    "ExecuteTime": {
     "end_time": "2019-05-03T00:31:57.673976Z",
     "start_time": "2019-05-03T00:31:57.666995Z"
    }
   },
   "outputs": [
    {
     "data": {
      "text/plain": [
       "array(['Soccer', 'Soccer', 'NBA', 'Soccer', 'NFL', 'NFL', 'Soccer', 'NBA',\n",
       "       'Soccer', 'NFL', 'NFL', 'NFL', 'Soccer'], dtype=object)"
      ]
     },
     "execution_count": 20,
     "metadata": {},
     "output_type": "execute_result"
    }
   ],
   "source": [
    "# Predictions for an array of titles\n",
    "svm_y_pred = svm_clf.predict(count_vect.transform(X_test))\n",
    "svm_y_pred"
   ]
  },
  {
   "cell_type": "code",
   "execution_count": 21,
   "metadata": {
    "ExecuteTime": {
     "end_time": "2019-05-03T00:31:59.624742Z",
     "start_time": "2019-05-03T00:31:59.617757Z"
    }
   },
   "outputs": [
    {
     "data": {
      "text/plain": [
       "1.0"
      ]
     },
     "execution_count": 21,
     "metadata": {},
     "output_type": "execute_result"
    }
   ],
   "source": [
    "# Calculate the accuracy\n",
    "svm_clf.score(count_vect.transform(X_test), y_test)"
   ]
  },
  {
   "cell_type": "code",
   "execution_count": 22,
   "metadata": {
    "ExecuteTime": {
     "end_time": "2019-05-03T00:32:01.140266Z",
     "start_time": "2019-05-03T00:32:01.121317Z"
    }
   },
   "outputs": [
    {
     "name": "stdout",
     "output_type": "stream",
     "text": [
      "Accuracy for c=0.01 is 0.38461538461538464\n",
      "Accuracy for c=0.05 is 0.6153846153846154\n",
      "Accuracy for c=0.1 is 0.8461538461538461\n",
      "Accuracy for c=0.25 is 0.9230769230769231\n",
      "Accuracy for c=0.5 is 1.0\n",
      "Accuracy for c=1 is 1.0\n",
      "Accuracy for c=10 is 1.0\n",
      "Accuracy for c=100 is 1.0\n",
      "Accuracy for c=500 is 1.0\n"
     ]
    }
   ],
   "source": [
    "# Choosing the best C\n",
    "c_range = [0.01, 0.05, 0.1, 0.25, 0.5, 1, 10, 100, 500]\n",
    "for c in c_range:\n",
    "    svm_clf = LinearSVC(C=c).fit(X_train_tfidf, y_train)\n",
    "    accuracy = svm_clf.score(count_vect.transform(X_test), y_test)\n",
    "    print(\"Accuracy for c={} is {}\".format(c, accuracy))"
   ]
  },
  {
   "cell_type": "markdown",
   "metadata": {},
   "source": [
    "## Logistic Regression\n",
    "![Logistic Regression](https://cdn-images-1.medium.com/max/1600/1*EVzm1iP8tx0Opvw-ph-XrA.png)\n",
    "Like Naive Bayes, logistic regression can give a probability for a specific class. It performs better than Naive Bayes if the data has non-independent features. \n",
    "\n",
    "Logistic regression generally models a binary response, but we can use multiple logistic regressions to do multiclass classification. \n",
    "\n",
    "Multiclass can be implemented by training multiple logistic regression classifiers, one for each of the classes in the training set. When training for each class, we do a one-vs-all classification to turn it into a binary problem. That is, for each class, we calculate the probability it's that class vs. the rest of the classes. The logistic regression classifier selects the class with the highest probability. \n",
    "\n",
    "Multiclass can also be implemented using multinomial regression\n",
    "\n",
    "[Food for thought](https://www.quora.com/In-multi-class-classification-what-are-pros-and-cons-of-One-to-Rest-and-One-to-One) about multinomial vs one v. rest vs one v. one"
   ]
  },
  {
   "cell_type": "code",
   "execution_count": 24,
   "metadata": {
    "ExecuteTime": {
     "end_time": "2019-05-03T00:32:25.881657Z",
     "start_time": "2019-05-03T00:32:25.851700Z"
    }
   },
   "outputs": [
    {
     "name": "stdout",
     "output_type": "stream",
     "text": [
      "['Soccer']\n"
     ]
    }
   ],
   "source": [
    "from sklearn.linear_model import LogisticRegression\n",
    "log_reg_clf = LogisticRegression(solver=\"lbfgs\").fit(X_train_tfidf, y_train)\n",
    "print(log_reg_clf.predict(count_vect.transform([\"Sarri “didn’t like anybody” on Chelsea on Saturday\"])))"
   ]
  },
  {
   "cell_type": "code",
   "execution_count": 25,
   "metadata": {
    "ExecuteTime": {
     "end_time": "2019-05-03T00:32:28.619126Z",
     "start_time": "2019-05-03T00:32:28.612144Z"
    }
   },
   "outputs": [
    {
     "data": {
      "text/plain": [
       "array([[0.10670359, 0.78638056, 0.10691585]])"
      ]
     },
     "execution_count": 25,
     "metadata": {},
     "output_type": "execute_result"
    }
   ],
   "source": [
    "log_reg_clf.predict_proba(count_vect.transform(\n",
    "    [\"Raiders signing tight end off Ravens practice squad\"]))"
   ]
  },
  {
   "cell_type": "code",
   "execution_count": 26,
   "metadata": {
    "ExecuteTime": {
     "end_time": "2019-05-03T00:32:38.856431Z",
     "start_time": "2019-05-03T00:32:38.850447Z"
    }
   },
   "outputs": [
    {
     "data": {
      "text/plain": [
       "0.8461538461538461"
      ]
     },
     "execution_count": 26,
     "metadata": {},
     "output_type": "execute_result"
    }
   ],
   "source": [
    "log_reg_clf.score(count_vect.transform(X_test), y_test)"
   ]
  },
  {
   "cell_type": "code",
   "execution_count": 28,
   "metadata": {
    "ExecuteTime": {
     "end_time": "2019-05-03T00:32:45.494637Z",
     "start_time": "2019-05-03T00:32:45.394870Z"
    }
   },
   "outputs": [
    {
     "name": "stdout",
     "output_type": "stream",
     "text": [
      "Accuracy for c=0.01 is 0.38461538461538464\n",
      "Accuracy for c=0.05 is 0.38461538461538464\n",
      "Accuracy for c=0.1 is 0.38461538461538464\n",
      "Accuracy for c=0.25 is 0.46153846153846156\n",
      "Accuracy for c=0.5 is 0.6153846153846154\n",
      "Accuracy for c=1 is 0.8461538461538461\n",
      "Accuracy for c=10 is 1.0\n",
      "Accuracy for c=100 is 1.0\n",
      "Accuracy for c=500 is 1.0\n"
     ]
    }
   ],
   "source": [
    "# Choosing the best C\n",
    "c_range = [0.01, 0.05, 0.1, 0.25, 0.5, 1, 10, 100, 500]\n",
    "for c in c_range:\n",
    "    log_reg_clf = LogisticRegression(C=c, solver=\"lbfgs\").fit(X_train_tfidf, y_train)\n",
    "    accuracy = log_reg_clf.score(count_vect.transform(X_test), y_test)\n",
    "    print(\"Accuracy for c={} is {}\".format(c, accuracy))"
   ]
  },
  {
   "cell_type": "markdown",
   "metadata": {},
   "source": [
    "# Examining Test Results"
   ]
  },
  {
   "cell_type": "markdown",
   "metadata": {},
   "source": [
    "## Confusion Matrix\n",
    "\n",
    "The Confusion Matrix shows you what classes are getting mistaken for other classes. In the Confusion Matrix heatmap, we want to see all dark colors on the diagonal - this means categories are being classified correctly"
   ]
  },
  {
   "cell_type": "code",
   "execution_count": 31,
   "metadata": {
    "ExecuteTime": {
     "end_time": "2019-05-03T00:34:39.096366Z",
     "start_time": "2019-05-03T00:34:38.977665Z"
    },
    "scrolled": true
   },
   "outputs": [
    {
     "data": {
      "image/png": "[encoded data removed]",
      "text/plain": [
       "<Figure size 360x360 with 2 Axes>"
      ]
     },
     "metadata": {},
     "output_type": "display_data"
    }
   ],
   "source": [
    "import seaborn as sns\n",
    "from sklearn.metrics import confusion_matrix\n",
    "\n",
    "confusion_mat = confusion_matrix(y_test, nb_y_pred)\n",
    "fig, ax = plt.subplots(figsize=(5,5))\n",
    "sns.heatmap(confusion_mat, annot=True, fmt='d',\n",
    "            xticklabels=svm_clf.classes_, yticklabels=svm_clf.classes_)\n",
    "plt.ylabel('Actual')\n",
    "plt.xlabel('Predicted')\n",
    "plt.show()"
   ]
  },
  {
   "cell_type": "markdown",
   "metadata": {},
   "source": [
    "## Classification Report\n",
    "\n",
    "Classification Report produces for each class, metrics on the precision, recall, f1-score and support.\n",
    "\n",
    "### Jargon\n",
    "\n",
    "* **precision**: This is the ratio between the number of true positives and the sum of true positives and false positives. This measures the classifier's ability not to label a negative sample as positive. If there are lots of false positives, this ratio is low. Also known as a model's \"exactness\"\n",
    "* **recall**: This is the ratio between the number of true positives and the sum of true positives and false negatives. This measures the classifier's ability to find all of the positive samples. If there are lots of false negatives, this ratio is low. Also known as a model's \"completeness\" or \"sensitivity\"\n",
    "* **f1-score**: This is the weighted harmonic mean of the precision and recall, where score is highest at 1 and lowest at 0. \n",
    "* **support**: Number of occurrences of each class in `y_true`\n"
   ]
  },
  {
   "cell_type": "code",
   "execution_count": 32,
   "metadata": {
    "ExecuteTime": {
     "end_time": "2019-05-03T00:35:19.017828Z",
     "start_time": "2019-05-03T00:35:19.012812Z"
    }
   },
   "outputs": [
    {
     "name": "stdout",
     "output_type": "stream",
     "text": [
      "             precision    recall  f1-score   support\n",
      "\n",
      "        NBA       1.00      1.00      1.00         2\n",
      "        NFL       0.83      1.00      0.91         5\n",
      "     Soccer       1.00      0.83      0.91         6\n",
      "\n",
      "avg / total       0.94      0.92      0.92        13\n",
      "\n"
     ]
    }
   ],
   "source": [
    "from sklearn.metrics import classification_report\n",
    "print(classification_report(y_test, nb_y_pred))"
   ]
  },
  {
   "cell_type": "markdown",
   "metadata": {},
   "source": [
    "## Curves\n",
    "These curves are used in binary classification, but it can be applied to multi-class using the One v. All strategy. Generally, the Precision-Recall curve is used when we have imbalanced classes, i.e. the positive class is interesting and rare. This is because the precision measurement depends on the prior probability of the positive class. We use the AUC-ROC curve for balanced classes, as the ROC curve remains the same regardless of the baseline prior probability of your positive class. \n",
    "\n",
    "### AUC - ROC Curve\n",
    "[Reference](https://towardsdatascience.com/understanding-auc-roc-curve-68b2303cc9c5)\n",
    "\n",
    "The Area Under the Curve (AUC) - Receiver Operating Characteristics (ROC) Curve tells how much the model is capable of distinguishing between two binary classes. It plots the true positive rate (TPR) vs. the false positive rate (FPR). In the multiclass case, you can plot N ROC curves for N classes using the One v. All methodology. \n",
    "\n",
    "![AUC - ROC Curve](https://cdn-images-1.medium.com/max/1600/1*pk05QGzoWhCgRiiFbz-oKQ.png)\n",
    "\n",
    "$$ TPR = Recall = Sensitivity = \\frac{TP}{TP + FN} $$\n",
    "$$ Specificity = \\frac{TN}{TN + FP} $$\n",
    "$$ FPR = 1 - Specificity = \\frac{FP}{TN + FP} $$\n",
    "\n",
    "Decreasing the threshold means more samples will be labelled positive, so it increases the sensitivity and decreases the specificity. Similarly, increasing the threshold means more samples will be labeled negative, so it decreases the sensitivty and increases the specificity. \n",
    "\n",
    "The ideal model has $AUC = 1$, and a random model has $AUC = 0.5$. \n",
    "\n",
    "If the distribution of the positive class and negative class's decision functions don't overlap, we can get perfect separability. \n",
    "\n",
    "![Ideal Example](https://cdn-images-1.medium.com/max/1600/1*Uu-t4pOotRQFoyrfqEvIEg.png)\n",
    "\n",
    "When the distributions overlap, this is how we get false negatives and true positives. \n",
    "\n",
    "![Overlapping Distributions](https://cdn-images-1.medium.com/max/1600/1*yF8hvKR9eNfqqej2JnVKzg.png)\n",
    "\n",
    "### Precision - Recall Curve\n",
    "\n",
    "The Precision-Recall curve plots precision (y-axis) vs. recall (x-axis) for different thresholds. It's similar to the ROC curve in that you want to maximize the area under the curve.\n",
    "\n",
    "The no-skill line is defined by the number of true positives divided by the total number of true positives and true negatives. \n",
    "\n",
    "![Precision-Recall Curve](https://qph.fs.quoracdn.net/main-qimg-ddd56eeeae45bcd95093859b87454e73.webp)"
   ]
  },
  {
   "cell_type": "markdown",
   "metadata": {
    "collapsed": true
   },
   "source": [
    "# Most Important Features for Each Class"
   ]
  },
  {
   "cell_type": "code",
   "execution_count": 33,
   "metadata": {
    "ExecuteTime": {
     "end_time": "2019-05-03T00:35:28.483933Z",
     "start_time": "2019-05-03T00:35:28.478948Z"
    }
   },
   "outputs": [],
   "source": [
    "def show_most_informative_features(vectorizer, clf, n=20):\n",
    "    # This only works with linear classifiers, so not decision tree classifiers\n",
    "    feature_names = vectorizer.get_feature_names()\n",
    "    class_labels = clf.classes_\n",
    "    top = []\n",
    "    if len(class_labels) == 2:\n",
    "        # In the binary case, clf.coef_ is flattened to save space so we have to treat it differently\n",
    "        coefs_with_words = sorted(zip(clf.coef_[0], feature_names))\n",
    "        # Gets the most negative values, which corresponds to class 1 (in ascending order)\n",
    "        top.append(coefs_with_words[:n])\n",
    "        # Gets the most positive values, which corresponds to class 2 (in descending order)\n",
    "        top.append(coefs_with_words[:-(n+1):-1])\n",
    "        for i in [0, 1]:\n",
    "            print('\\n', class_labels[i], '\\n')\n",
    "            for coef, word in top[i]:\n",
    "                print(coef, word)\n",
    "    elif len(class_labels) > 2:\n",
    "        for i, class_label in enumerate(class_labels):\n",
    "            coefs_with_words = sorted(zip(clf.coef_[i], feature_names))\n",
    "            # gets the most positive values in descending order\n",
    "            top.append(coefs_with_words[:-n:-1])\n",
    "            print('\\n', class_labels[i], '\\n')\n",
    "            for coef, word in top[i]:\n",
    "                print(coef, word)"
   ]
  },
  {
   "cell_type": "code",
   "execution_count": 34,
   "metadata": {
    "ExecuteTime": {
     "end_time": "2019-05-03T00:35:30.019168Z",
     "start_time": "2019-05-03T00:35:30.010190Z"
    }
   },
   "outputs": [
    {
     "name": "stdout",
     "output_type": "stream",
     "text": [
      "\n",
      " NBA \n",
      "\n",
      "0.9325517207171532 blazers\n",
      "0.8860432378875502 durant\n",
      "0.8071530344387184 korver\n",
      "0.7949350390240384 harden\n",
      "0.7502340707148877 warriors\n",
      "0.656707861824441 nuggets\n",
      "0.6454379049715003 utah\n",
      "0.5640480640490383 report cavaliers\n",
      "0.5640480640490383 cavaliers\n",
      "0.5624091069403061 kevin durant\n",
      "0.5624091069403061 kevin\n",
      "0.4755081712903803 trade\n",
      "0.4755081712903803 kyle korver\n",
      "0.4755081712903803 korver trade\n",
      "0.4462349904155249 warriors hope\n",
      "0.4462349904155249 rockets warriors\n",
      "0.4462349904155249 rockets\n",
      "0.4462349904155249 hope cleaner\n",
      "0.4462349904155249 hope\n",
      "\n",
      " NFL \n",
      "\n",
      "0.9545924683390756 week\n",
      "0.8417765204042968 ravens\n",
      "0.8296046321527835 giants\n",
      "0.6051252390105051 raiders\n",
      "0.5465780278601863 packers\n",
      "0.4960225160461325 chiefs\n",
      "0.4425210256884201 orleans\n",
      "0.4425210256884201 new orleans\n",
      "0.4425210256884201 new\n",
      "0.44154015455699 practice\n",
      "0.4274845372356808 source raiders\n",
      "0.4274845372356808 raiders crowell\n",
      "0.4274845372356808 hurt season\n",
      "0.4274845372356808 hurt\n",
      "0.4274845372356808 crowell hurt\n",
      "0.4274845372356808 crowell\n",
      "0.3864260806873992 tom brady\n",
      "0.3864260806873992 tom\n",
      "0.3864260806873992 stats nfl\n",
      "\n",
      " Soccer \n",
      "\n",
      "1.1817970431686968 chelsea\n",
      "1.11621592449986 arsenal\n",
      "0.6705463696260229 20\n",
      "0.6590198162648316 man\n",
      "0.5161507576419236 leicester city\n",
      "0.5161507576419236 leicester\n",
      "0.5161507576419236 city\n",
      "0.5161507576419236 arsenal leicester\n",
      "0.4607895213139482 uefa ffp\n",
      "0.4607895213139482 uefa\n",
      "0.4607895213139482 strong clear\n",
      "0.4607895213139482 strong\n",
      "0.4607895213139482 rules strong\n",
      "0.4607895213139482 rules\n",
      "0.4607895213139482 ffp rules\n",
      "0.4607895213139482 ffp\n",
      "0.4607895213139482 clear\n",
      "0.42758848482524037 win fans\n",
      "0.42758848482524037 season opening\n"
     ]
    }
   ],
   "source": [
    "show_most_informative_features(count_vect, svm_clf)"
   ]
  },
  {
   "cell_type": "markdown",
   "metadata": {},
   "source": [
    "# Building a Pipeline\n",
    "We can do what we did above with some less code using a Pipeline\n",
    "\n",
    "A pipeline sequentially applies a list of transforms and a final estimator. \n",
    "\n",
    "When you run `.predict` on a pipeline, it applys the transforms to the data and then predicts with the final estimator"
   ]
  },
  {
   "cell_type": "code",
   "execution_count": 35,
   "metadata": {
    "ExecuteTime": {
     "end_time": "2019-05-03T00:36:02.160444Z",
     "start_time": "2019-05-03T00:36:02.006835Z"
    }
   },
   "outputs": [],
   "source": [
    "from sklearn.pipeline import Pipeline\n",
    "# Example of a Multinomial Naive Bayes Pipeline\n",
    "text_clf_pipeline = Pipeline([\n",
    "    ('vect', CountVectorizer(stop_words=stop_words, ngram_range=(1, 2), min_df=1)),\n",
    "    ('tfidf', TfidfTransformer()),\n",
    "    ('clf', MultinomialNB())\n",
    "])"
   ]
  },
  {
   "cell_type": "code",
   "execution_count": 36,
   "metadata": {
    "ExecuteTime": {
     "end_time": "2019-05-03T00:36:06.201363Z",
     "start_time": "2019-05-03T00:36:06.191391Z"
    },
    "scrolled": true
   },
   "outputs": [
    {
     "data": {
      "text/plain": [
       "Pipeline(memory=None,\n",
       "     steps=[('vect', CountVectorizer(analyzer='word', binary=False, decode_error='strict',\n",
       "        dtype=<class 'numpy.int64'>, encoding='utf-8', input='content',\n",
       "        lowercase=True, max_df=1.0, max_features=None, min_df=1,\n",
       "        ngram_range=(1, 2), preprocessor=None,\n",
       "        stop_words=frozenset({...inear_tf=False, use_idf=True)), ('clf', MultinomialNB(alpha=1.0, class_prior=None, fit_prior=True))])"
      ]
     },
     "execution_count": 36,
     "metadata": {},
     "output_type": "execute_result"
    }
   ],
   "source": [
    "text_clf_pipeline.fit(X_train, y_train)"
   ]
  },
  {
   "cell_type": "code",
   "execution_count": 37,
   "metadata": {
    "ExecuteTime": {
     "end_time": "2019-05-03T00:36:10.382047Z",
     "start_time": "2019-05-03T00:36:10.375030Z"
    }
   },
   "outputs": [
    {
     "data": {
      "text/plain": [
       "array(['NFL'], dtype='<U6')"
      ]
     },
     "execution_count": 37,
     "metadata": {},
     "output_type": "execute_result"
    }
   ],
   "source": [
    "# Notice how we don't have to call count_vect.transform if we do a pipeline\n",
    "text_clf_pipeline.predict(\n",
    "    [\"Raiders signing tight end off Ravens practice squad\"])"
   ]
  },
  {
   "cell_type": "code",
   "execution_count": 38,
   "metadata": {
    "ExecuteTime": {
     "end_time": "2019-05-03T00:36:12.456434Z",
     "start_time": "2019-05-03T00:36:12.451432Z"
    }
   },
   "outputs": [
    {
     "data": {
      "text/plain": [
       "MultinomialNB(alpha=1.0, class_prior=None, fit_prior=True)"
      ]
     },
     "execution_count": 38,
     "metadata": {},
     "output_type": "execute_result"
    }
   ],
   "source": [
    "# You can also access the steps within the pipeline using named steps eg\n",
    "text_clf_pipeline.named_steps['clf']"
   ]
  },
  {
   "cell_type": "markdown",
   "metadata": {},
   "source": [
    "# Finding the Best Model with the Best Parameters\n",
    "\n",
    "Let's maximize our accuracy by doing cross-validation with repeated KFolds. \n",
    "\n",
    "## KFold Cross-Validation\n",
    "![Kfold](https://static.oschina.net/uploads/img/201609/26155106_OfXx.png)\n",
    "\n",
    "k-fold cross-validation randomly divides the set of observations into k groups or \"folds\" of approximately equal size. The first fold is treated as the test set, and the remaining folds are used as training data to create the model. The error is calculated on this test fold. \n",
    "\n",
    "This procedure is repeated k times, each time, a different fold is the test set. This results in k estimates of the test error, which are averaged to get the k-fold cross validation estimate. \n",
    "\n",
    "The recommended number of folds is generally 5 or 10, as these values have been shown to empirically yeild test error rate estimates that suffer neither from excessively high bias nor from very high variance\n",
    "\n",
    "In the below method, we use StratifiedKFold, which makes sure each class is represented proportionally to the observation sample in each fold. \n",
    "\n",
    "We also repeat the KFold cross-validation test `n_repeats` times and shuffle the observations in the folds to get a more stable view of accuracy"
   ]
  },
  {
   "cell_type": "markdown",
   "metadata": {},
   "source": [
    "## Optimizing the Text Classifier"
   ]
  },
  {
   "cell_type": "code",
   "execution_count": 41,
   "metadata": {
    "ExecuteTime": {
     "end_time": "2019-05-03T00:37:41.199203Z",
     "start_time": "2019-05-03T00:37:41.181252Z"
    }
   },
   "outputs": [],
   "source": [
    "import time\n",
    "from sklearn.model_selection import cross_val_score, StratifiedKFold\n",
    "from sklearn.naive_bayes import MultinomialNB\n",
    "from sklearn.svm import LinearSVC\n",
    "from sklearn.linear_model import LogisticRegression\n",
    "\n",
    "def optimize_text_classifier(documents, labels, n_folds=10, n_repeats=10, seed=42, custom_stop_words=ENGLISH_STOP_WORDS, min_df=1):\n",
    "    \"\"\"\n",
    "    Given the documents and labels, we find the best text classifier and if necessary, any\n",
    "    tuning parameters. \n",
    "    This function compares Naive Bayes, Logistic Regression, and LinearSVC. For logistic regression\n",
    "    and SVC, we also find the optimal regularization parameter C\n",
    "    The function returns the optimal classifier, a summary of the findings, and the detailed results\n",
    "\n",
    "    Optional Parameters\n",
    "    n_folds: Number of folds for KFolds cross validation\n",
    "    n_repeats: Number of times we repeat KFolds cross validation\n",
    "    min_df: Minimum number of times a word has to appear in the corpus to be included as a feature\n",
    "    \n",
    "    Parameters Not Optimized:\n",
    "    min_df: We don't vary this parameter, we simply use what was specified in the function call\n",
    "    Solver for Logistic Regression: We use 'lbfgs' by default\n",
    "    \"\"\"\n",
    "    start = time.time()\n",
    "    # Tests the range of C values from 2^-7 to 2^7\n",
    "    c_range = [2**x for x in range(-7, 8)]\n",
    "    results = {\n",
    "        \"nb\": {\n",
    "            \"scores\": []\n",
    "        },\n",
    "        \"logreg\": {\n",
    "            \"scores\": [],\n",
    "            \"c_list\": [],\n",
    "        },\n",
    "        \"svc\": {\n",
    "            \"scores\": [],\n",
    "            \"c_list\": []\n",
    "        }\n",
    "    }\n",
    "    summary = []\n",
    "    for n in range(n_repeats):\n",
    "        for model in results.keys():\n",
    "            if model == \"nb\":\n",
    "                skf = StratifiedKFold(n_splits=n_folds, shuffle=True)\n",
    "                text_clf = Pipeline([\n",
    "                    ('vect', CountVectorizer(stop_words=custom_stop_words,\n",
    "                                             ngram_range=(1, 2), min_df=min_df)),\n",
    "                    ('tfidf', TfidfTransformer()),\n",
    "                    ('clf', MultinomialNB())\n",
    "                ])\n",
    "                score = np.mean(cross_val_score(\n",
    "                    text_clf, documents, labels, cv=skf))\n",
    "                results[\"nb\"][\"scores\"].append(score)\n",
    "            else:  # we have to tune for the regularization parameter C\n",
    "                best_score = 0\n",
    "                optimal_c = 0\n",
    "                # It's important that we have a random seed for skf, because we want the same\n",
    "                # training & test sets for tuning the regularization parameter\n",
    "                skf = StratifiedKFold(\n",
    "                    n_splits=n_folds, shuffle=True, random_state=seed)\n",
    "                seed += 1\n",
    "                for c in c_range:\n",
    "                    if model == \"logreg\":\n",
    "                        text_clf = Pipeline([\n",
    "                            ('vect', CountVectorizer(\n",
    "                                stop_words=custom_stop_words, ngram_range=(1, 2), min_df=min_df)),\n",
    "                            ('tfidf', TfidfTransformer()),\n",
    "                            ('clf', LogisticRegression(C=c, solver='lbfgs'))\n",
    "                        ])\n",
    "                    elif model == \"svc\":\n",
    "                        text_clf = Pipeline([\n",
    "                            ('vect', CountVectorizer(\n",
    "                                stop_words=custom_stop_words, ngram_range=(1, 2), min_df=min_df)),\n",
    "                            ('tfidf', TfidfTransformer()),\n",
    "                            ('clf', LinearSVC(C=c))\n",
    "                        ])\n",
    "                    score = np.mean(cross_val_score(\n",
    "                        text_clf, documents, labels, cv=skf))\n",
    "                    if score > best_score:\n",
    "                        best_score = score\n",
    "                        optimal_c = c\n",
    "                results[model][\"scores\"].append(best_score)\n",
    "                results[model][\"c_list\"].append(optimal_c)\n",
    "    for model in results.keys():\n",
    "        if model == \"nb\":\n",
    "            summary.append((model, np.mean(results[model][\"scores\"])))\n",
    "        elif model in [\"logreg\", \"svc\"]:\n",
    "            # get the most frequently occuring optimal c\n",
    "            mode_c = max(set(results[model][\"c_list\"]),\n",
    "                         key=results[model][\"c_list\"].count)\n",
    "            summary.append((model, np.mean(results[model][\"scores\"]), mode_c))\n",
    "    end = time.time()\n",
    "    print(\"Summary of Results:\")\n",
    "    print(summary, '\\n')\n",
    "    # Gets the tuple with the highest avg accuracy\n",
    "    best = max(summary, key=lambda model_summary: model_summary[1])\n",
    "    best_avg_score = best[1]\n",
    "    print(\"Best Cross Validation Score:\", best_avg_score, '\\n')\n",
    "    if best[0] == \"nb\":\n",
    "        best_model = MultinomialNB()\n",
    "    elif best[0] == \"logreg\":\n",
    "        best_model = LogisticRegression(C=best[2], solver='lbfgs')\n",
    "    elif best[0] == \"svc\":\n",
    "        best_model = LinearSVC(C=best[2])\n",
    "    print(\"Best Model:\")\n",
    "    print(best_model)\n",
    "    print(\"\\nIt took {} seconds to optimize the model with {} trials\".format(\n",
    "        end-start, n_repeats))\n",
    "    # Final Pipeline - the only difference is that we use all of the data\n",
    "    final_pipeline = Pipeline([\n",
    "        ('vect', CountVectorizer(stop_words=custom_stop_words,\n",
    "                                 ngram_range=(1, 2), min_df=min_df)),\n",
    "        ('tfidf', TfidfTransformer()),\n",
    "        # choose whatever is the best model from the above analysis and use the tuned parameters\n",
    "        ('clf', best_model)\n",
    "    ])\n",
    "    # In the final pipeline, you use all of the data (Training + Test)\n",
    "    final_pipeline.fit(documents, labels)\n",
    "    return final_pipeline, summary, results, best_avg_score"
   ]
  },
  {
   "cell_type": "code",
   "execution_count": 42,
   "metadata": {
    "ExecuteTime": {
     "end_time": "2019-05-03T00:37:58.525807Z",
     "start_time": "2019-05-03T00:37:41.672816Z"
    },
    "scrolled": true
   },
   "outputs": [
    {
     "name": "stdout",
     "output_type": "stream",
     "text": [
      "Summary of Results:\n",
      "[('nb', 0.7291025641025641), ('logreg', 0.7964102564102563, 4), ('svc', 0.7952564102564101, 0.5)] \n",
      "\n",
      "Best Cross Validation Score: 0.7964102564102563 \n",
      "\n",
      "Best Model:\n",
      "LogisticRegression(C=4, class_weight=None, dual=False, fit_intercept=True,\n",
      "          intercept_scaling=1, max_iter=100, multi_class='ovr', n_jobs=1,\n",
      "          penalty='l2', random_state=None, solver='lbfgs', tol=0.0001,\n",
      "          verbose=0, warm_start=False)\n",
      "\n",
      "It took 16.82603621482849 seconds to optimize the model with 10 trials\n"
     ]
    }
   ],
   "source": [
    "final_pipeline, summary, results, best_avg_score = optimize_text_classifier(\n",
    "    df.Title, df.Category, n_folds=5, seed=56, custom_stop_words=custom_stop_words)"
   ]
  },
  {
   "cell_type": "code",
   "execution_count": 43,
   "metadata": {
    "ExecuteTime": {
     "end_time": "2019-05-03T00:38:15.096451Z",
     "start_time": "2019-05-03T00:38:15.090466Z"
    },
    "scrolled": true
   },
   "outputs": [
    {
     "data": {
      "text/plain": [
       "{'vect': CountVectorizer(analyzer='word', binary=False, decode_error='strict',\n",
       "         dtype=<class 'numpy.int64'>, encoding='utf-8', input='content',\n",
       "         lowercase=True, max_df=1.0, max_features=None, min_df=1,\n",
       "         ngram_range=(1, 2), preprocessor=None, stop_words={'vs', 'v'},\n",
       "         strip_accents=None, token_pattern='(?u)\\\\b\\\\w\\\\w+\\\\b',\n",
       "         tokenizer=None, vocabulary=None),\n",
       " 'tfidf': TfidfTransformer(norm='l2', smooth_idf=True, sublinear_tf=False, use_idf=True),\n",
       " 'clf': LogisticRegression(C=4, class_weight=None, dual=False, fit_intercept=True,\n",
       "           intercept_scaling=1, max_iter=100, multi_class='ovr', n_jobs=1,\n",
       "           penalty='l2', random_state=None, solver='lbfgs', tol=0.0001,\n",
       "           verbose=0, warm_start=False)}"
      ]
     },
     "execution_count": 43,
     "metadata": {},
     "output_type": "execute_result"
    }
   ],
   "source": [
    "final_pipeline.named_steps"
   ]
  },
  {
   "cell_type": "markdown",
   "metadata": {
    "collapsed": true
   },
   "source": [
    "### Saving the Classifier"
   ]
  },
  {
   "cell_type": "code",
   "execution_count": 45,
   "metadata": {
    "ExecuteTime": {
     "end_time": "2018-12-14T21:37:31.775048Z",
     "start_time": "2018-12-14T21:37:31.748034Z"
    },
    "collapsed": true
   },
   "outputs": [],
   "source": [
    "# Save our classifier in a pickle file so we can use it in other environments\n",
    "\n",
    "import pickle\n",
    "import sklearn\n",
    "\n",
    "# It's always a good idea to also include some metadata with your pickle file of a model\n",
    "# Here's an example of what to put in the metadata dictionary\n",
    "model_metadata = {\n",
    "    \"owner\": {\n",
    "        \"Name\": \"Marcie Tran\",\n",
    "        \"Email\": \"marcietran@email.com\"\n",
    "    },\n",
    "    \"training_data_source\": {  # could be a dict referencing an Azure blob, AWS S3 object etc\n",
    "    },\n",
    "    \"python_notebook_source\": {  # some dict about the source of the python notebook that produced this model\n",
    "        \"type\": \"local storage\",\n",
    "        \"path\": r\"C:\\Users\\local\\path\\to\\notebook\"\n",
    "    },\n",
    "    \"dependencies\": {\n",
    "        \"sklearn\": sklearn.__version__,\n",
    "        \"numpy\": np.__version__,\n",
    "        \"pandas\": pd.__version__\n",
    "    },\n",
    "    # let's you check that the cross val score is about what you'd expect\n",
    "    \"cross_validation_score\": best_avg_score\n",
    "}\n",
    "\n",
    "# You can also save things directly to S3 instead of a file on a local system\n",
    "file = open('text_classification_pipeline.pkl', 'wb')\n",
    "pickle.dump((model_metadata, final_pipeline), file)"
   ]
  },
  {
   "cell_type": "markdown",
   "metadata": {},
   "source": [
    "### Loading a Pipeline or Model"
   ]
  },
  {
   "cell_type": "code",
   "execution_count": 46,
   "metadata": {
    "ExecuteTime": {
     "end_time": "2018-12-14T21:37:34.999586Z",
     "start_time": "2018-12-14T21:37:34.986569Z"
    }
   },
   "outputs": [
    {
     "data": {
      "text/plain": [
       "array(['NFL'], dtype=object)"
      ]
     },
     "execution_count": 46,
     "metadata": {},
     "output_type": "execute_result"
    }
   ],
   "source": [
    "read_file = open('text_classification_pipeline.pkl', 'rb')\n",
    "model_metadata, clf_pipeline = pickle.load(read_file)\n",
    "\n",
    "clf_pipeline.predict([\"Raiders signing tight end off Ravens practice squad\"])"
   ]
  }
 ],
 "metadata": {
  "kernelspec": {
   "display_name": "Python 3",
   "language": "python",
   "name": "python3"
  },
  "language_info": {
   "codemirror_mode": {
    "name": "ipython",
    "version": 3
   },
   "file_extension": ".py",
   "mimetype": "text/x-python",
   "name": "python",
   "nbconvert_exporter": "python",
   "pygments_lexer": "ipython3",
   "version": "3.6.5"
  },
  "toc": {
   "base_numbering": 1,
   "nav_menu": {},
   "number_sections": true,
   "sideBar": true,
   "skip_h1_title": false,
   "title_cell": "Table of Contents",
   "title_sidebar": "Contents",
   "toc_cell": false,
   "toc_position": {},
   "toc_section_display": true,
   "toc_window_display": true
  },
  "varInspector": {
   "cols": {
    "lenName": 16,
    "lenType": 16,
    "lenVar": 40
   },
   "kernels_config": {
    "python": {
     "delete_cmd_postfix": "",
     "delete_cmd_prefix": "del ",
     "library": "var_list.py",
     "varRefreshCmd": "print(var_dic_list())"
    },
    "r": {
     "delete_cmd_postfix": ") ",
     "delete_cmd_prefix": "rm(",
     "library": "var_list.r",
     "varRefreshCmd": "cat(var_dic_list()) "
    }
   },
   "position": {
    "height": "737px",
    "left": "978px",
    "right": "20px",
    "top": "74px",
    "width": "344px"
   },
   "types_to_exclude": [
    "module",
    "function",
    "builtin_function_or_method",
    "instance",
    "_Feature"
   ],
   "window_display": false
  }
 },
 "nbformat": 4,
 "nbformat_minor": 2
}
